{
 "cells": [
  {
   "cell_type": "code",
   "execution_count": 1,
   "id": "d1412e5e",
   "metadata": {},
   "outputs": [],
   "source": [
    "from numpy import random"
   ]
  },
  {
   "cell_type": "code",
   "execution_count": null,
   "id": "947610d9",
   "metadata": {},
   "outputs": [],
   "source": [
    "import matplotlib.pyplot as "
   ]
  },
  {
   "cell_type": "code",
   "execution_count": null,
   "id": "fef39ddc",
   "metadata": {},
   "outputs": [],
   "source": []
  },
  {
   "cell_type": "code",
   "execution_count": 2,
   "id": "50c46ecc",
   "metadata": {},
   "outputs": [],
   "source": [
    "x = random.uniform(size=(2,3))"
   ]
  },
  {
   "cell_type": "code",
   "execution_count": 3,
   "id": "b751d3a2",
   "metadata": {},
   "outputs": [
    {
     "name": "stdout",
     "output_type": "stream",
     "text": [
      "[[0.59865111 0.85392588 0.68012677]\n",
      " [0.35350906 0.55486868 0.85871345]]\n"
     ]
    }
   ],
   "source": [
    "print(x)"
   ]
  },
  {
   "cell_type": "code",
   "execution_count": null,
   "id": "361cb66f",
   "metadata": {},
   "outputs": [],
   "source": []
  }
 ],
 "metadata": {
  "kernelspec": {
   "display_name": "Python 3 (ipykernel)",
   "language": "python",
   "name": "python3"
  },
  "language_info": {
   "codemirror_mode": {
    "name": "ipython",
    "version": 3
   },
   "file_extension": ".py",
   "mimetype": "text/x-python",
   "name": "python",
   "nbconvert_exporter": "python",
   "pygments_lexer": "ipython3",
   "version": "3.9.5"
  }
 },
 "nbformat": 4,
 "nbformat_minor": 5
}
