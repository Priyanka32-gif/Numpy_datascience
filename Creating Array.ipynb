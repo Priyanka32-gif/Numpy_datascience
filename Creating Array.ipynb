{
 "cells": [
  {
   "cell_type": "markdown",
   "id": "a7218abe",
   "metadata": {},
   "source": [
    "# # creating arrays"
   ]
  },
  {
   "cell_type": "code",
   "execution_count": 1,
   "id": "b652b15a",
   "metadata": {},
   "outputs": [],
   "source": [
    "import numpy as np"
   ]
  },
  {
   "cell_type": "code",
   "execution_count": 2,
   "id": "b2874e1e",
   "metadata": {},
   "outputs": [
    {
     "data": {
      "text/plain": [
       "array([0, 0, 0, 0, 0, 0, 0, 0, 0, 0])"
      ]
     },
     "execution_count": 2,
     "metadata": {},
     "output_type": "execute_result"
    }
   ],
   "source": [
    "np.zeros(10, dtype='int')"
   ]
  },
  {
   "cell_type": "markdown",
   "id": "7f9b59c2",
   "metadata": {},
   "source": [
    "## creating a 3 row x 5 column matrix"
   ]
  },
  {
   "cell_type": "code",
   "execution_count": 3,
   "id": "5abbe47a",
   "metadata": {},
   "outputs": [
    {
     "data": {
      "text/plain": [
       "array([[1., 1., 1., 1., 1.],\n",
       "       [1., 1., 1., 1., 1.],\n",
       "       [1., 1., 1., 1., 1.]])"
      ]
     },
     "execution_count": 3,
     "metadata": {},
     "output_type": "execute_result"
    }
   ],
   "source": [
    "np.ones((3,5), dtype=float)"
   ]
  },
  {
   "cell_type": "markdown",
   "id": "6556caa9",
   "metadata": {},
   "source": [
    "# #"
   ]
  },
  {
   "cell_type": "code",
   "execution_count": 4,
   "id": "cd792863",
   "metadata": {},
   "outputs": [
    {
     "data": {
      "text/plain": [
       "array([[1.25, 1.25, 1.25, 1.25, 1.25],\n",
       "       [1.25, 1.25, 1.25, 1.25, 1.25],\n",
       "       [1.25, 1.25, 1.25, 1.25, 1.25]])"
      ]
     },
     "execution_count": 4,
     "metadata": {},
     "output_type": "execute_result"
    }
   ],
   "source": [
    "np.full((3,5), 1.25)"
   ]
  },
  {
   "cell_type": "markdown",
   "id": "5baff355",
   "metadata": {},
   "source": [
    "## creating a array with a set sequence "
   ]
  },
  {
   "cell_type": "code",
   "execution_count": 5,
   "id": "43355c38",
   "metadata": {},
   "outputs": [
    {
     "data": {
      "text/plain": [
       "array([ 0,  2,  4,  6,  8, 10, 12, 14, 16, 18])"
      ]
     },
     "execution_count": 5,
     "metadata": {},
     "output_type": "execute_result"
    }
   ],
   "source": [
    "np.arange(0,20,2)"
   ]
  },
  {
   "cell_type": "markdown",
   "id": "544601d0",
   "metadata": {},
   "source": [
    "# create an array of even space between the given ranges of values"
   ]
  },
  {
   "cell_type": "code",
   "execution_count": 6,
   "id": "1fc9fe42",
   "metadata": {},
   "outputs": [
    {
     "data": {
      "text/plain": [
       "array([0.  , 0.25, 0.5 , 0.75, 1.  ])"
      ]
     },
     "execution_count": 6,
     "metadata": {},
     "output_type": "execute_result"
    }
   ],
   "source": [
    "np.linspace(0,1,5)"
   ]
  },
  {
   "cell_type": "markdown",
   "id": "6908bb5d",
   "metadata": {},
   "source": [
    "# create a 3*3 array with mean 0 and SD 1 in given dimension"
   ]
  },
  {
   "cell_type": "code",
   "execution_count": 7,
   "id": "cd5f9f16",
   "metadata": {},
   "outputs": [
    {
     "data": {
      "text/plain": [
       "array([[-1.33451461,  1.88165058, -0.30807406],\n",
       "       [ 0.11954576,  0.46994639,  0.48312487],\n",
       "       [ 0.04656373,  1.78671039,  0.10111323]])"
      ]
     },
     "execution_count": 7,
     "metadata": {},
     "output_type": "execute_result"
    }
   ],
   "source": [
    "np.random.normal(0,1,(3,3))"
   ]
  },
  {
   "cell_type": "markdown",
   "id": "d4b5c9b8",
   "metadata": {},
   "source": [
    "# create an identy matrix"
   ]
  },
  {
   "cell_type": "code",
   "execution_count": 8,
   "id": "14eaf411",
   "metadata": {},
   "outputs": [
    {
     "data": {
      "text/plain": [
       "array([[1., 0., 0.],\n",
       "       [0., 1., 0.],\n",
       "       [0., 0., 1.]])"
      ]
     },
     "execution_count": 8,
     "metadata": {},
     "output_type": "execute_result"
    }
   ],
   "source": [
    "np.eye(3)"
   ]
  },
  {
   "cell_type": "markdown",
   "id": "99e4d89e",
   "metadata": {},
   "source": [
    "#set a random speed"
   ]
  },
  {
   "cell_type": "code",
   "execution_count": 9,
   "id": "7e062860",
   "metadata": {},
   "outputs": [],
   "source": [
    "np.random.seed(0)"
   ]
  },
  {
   "cell_type": "code",
   "execution_count": 10,
   "id": "84b80d56",
   "metadata": {},
   "outputs": [],
   "source": [
    "x1 = np.random.randint(10, size=6) #one dimention"
   ]
  },
  {
   "cell_type": "code",
   "execution_count": 11,
   "id": "cd7b5206",
   "metadata": {},
   "outputs": [],
   "source": [
    "x2 = np.random.randint(10, size=(3,4)) #two dimention"
   ]
  },
  {
   "cell_type": "code",
   "execution_count": 12,
   "id": "584f494a",
   "metadata": {},
   "outputs": [],
   "source": [
    "x3 = np.random.randint(10, size=(3,4,5)) #three dimention"
   ]
  },
  {
   "cell_type": "code",
   "execution_count": 13,
   "id": "69a53724",
   "metadata": {},
   "outputs": [
    {
     "name": "stdout",
     "output_type": "stream",
     "text": [
      "x3 ndim: 3\n"
     ]
    }
   ],
   "source": [
    "print(\"x3 ndim:\", x3.ndim)"
   ]
  },
  {
   "cell_type": "code",
   "execution_count": 14,
   "id": "4616fbcc",
   "metadata": {},
   "outputs": [
    {
     "name": "stdout",
     "output_type": "stream",
     "text": [
      "x3 shape: (3, 4, 5)\n"
     ]
    }
   ],
   "source": [
    "print(\"x3 shape:\", x3.shape)"
   ]
  },
  {
   "cell_type": "code",
   "execution_count": 15,
   "id": "af52ee57",
   "metadata": {},
   "outputs": [
    {
     "name": "stdout",
     "output_type": "stream",
     "text": [
      "x3 size: 60\n"
     ]
    }
   ],
   "source": [
    "print(\"x3 size:\", x3.size)"
   ]
  },
  {
   "cell_type": "code",
   "execution_count": null,
   "id": "8ee67fb6",
   "metadata": {},
   "outputs": [],
   "source": []
  }
 ],
 "metadata": {
  "kernelspec": {
   "display_name": "Python 3 (ipykernel)",
   "language": "python",
   "name": "python3"
  },
  "language_info": {
   "codemirror_mode": {
    "name": "ipython",
    "version": 3
   },
   "file_extension": ".py",
   "mimetype": "text/x-python",
   "name": "python",
   "nbconvert_exporter": "python",
   "pygments_lexer": "ipython3",
   "version": "3.9.5"
  }
 },
 "nbformat": 4,
 "nbformat_minor": 5
}
